{
  "cells": [
    {
      "metadata": {
        "trusted": true
      },
      "cell_type": "code",
      "source": "# Common imports\nimport os\nimport pandas as pd\nimport numpy as np\nfrom sklearn import preprocessing\nimport seaborn as sns\nsns.set(color_codes=True)\nimport matplotlib.pyplot as plt\n%matplotlib inline\n\nimport tensorflow as tf\nfrom numpy.random import seed\n\n\nfrom keras.layers import Input, Dropout\nfrom keras.layers.core import Dense \nfrom keras.models import Model, Sequential, load_model\nfrom keras import regularizers\nfrom keras.models import model_from_json\n\ndata_dir = '2nd_test'\nmerged_data = pd.DataFrame()\n\nfor filename in os.listdir(data_dir):\n    print(filename)\n    dataset=pd.read_csv(os.path.join(data_dir, filename), sep='\\t')\n    dataset_mean_abs = np.array(dataset.abs().mean())\n    dataset_mean_abs = pd.DataFrame(dataset_mean_abs.reshape(1,4))\n    dataset_mean_abs.index = [filename]\n    merged_data = merged_data.append(dataset_mean_abs)\n\nmerged_data.columns = ['Bearing 1','Bearing 2','Bearing 3','Bearing 4']\n\n\nmerged_data.index = pd.to_datetime(merged_data.index, format='%Y.%m.%d.%H.%M.%S')\nmerged_data = merged_data.sort_index()\nmerged_data.to_csv('merged_dataset_BearingTest_2.csv')\nmerged_data.head()\n\n\ndataset_train = merged_data['2004-02-12 11:02:39':'2004-02-13 23:52:39']\ndataset_test = merged_data['2004-02-13 23:52:39':]\ndataset_train.plot(figsize = (12,6))\n\nscaler = preprocessing.MinMaxScaler()\n\nX_train = pd.DataFrame(scaler.fit_transform(dataset_train), \n                              columns=dataset_train.columns, \n                              index=dataset_train.index)\n# Random shuffle training data\nX_train.sample(frac=1)\n\nX_test = pd.DataFrame(scaler.transform(dataset_test), \n                             columns=dataset_test.columns, \n                             index=dataset_test.index)\n\n\nfrom sklearn.decomposition import PCA\npca = PCA(n_components=2, svd_solver= 'full')\nX_train_PCA = pca.fit_transform(X_train)\nX_train_PCA = pd.DataFrame(X_train_PCA)\nX_train_PCA.index = X_train.index\n\nX_test_PCA = pca.transform(X_test)\nX_test_PCA = pd.DataFrame(X_test_PCA)\nX_test_PCA.index = X_test.index\n\n\n\ndef cov_matrix(data, verbose=False):\n    covariance_matrix = np.cov(data, rowvar=False)\n    if is_pos_def(covariance_matrix):\n        inv_covariance_matrix = np.linalg.inv(covariance_matrix)\n        if is_pos_def(inv_covariance_matrix):\n            return covariance_matrix, inv_covariance_matrix\n        else:\n            print(\"Error: Inverse of Covariance Matrix is not positive definite!\")\n    else:\n        print(\"Error: Covariance Matrix is not positive definite!\")\n\n\ndef MahalanobisDist(inv_cov_matrix, mean_distr, data, verbose=False):\n    inv_covariance_matrix = inv_cov_matrix\n    vars_mean = mean_distr\n    diff = data - vars_mean\n    md = []\n    for i in range(len(diff)):\n        md.append(np.sqrt(diff[i].dot(inv_covariance_matrix).dot(diff[i])))\n    return md\n\ndef MD_detectOutliers(dist, extreme=False, verbose=False):\n    k = 3. if extreme else 2.\n    threshold = np.mean(dist) * k\n    outliers = []\n    for i in range(len(dist)):\n        if dist[i] >= threshold:\n            outliers.append(i)  # index of the outlier\n    return np.array(outliers)\n\n\ndef MD_threshold(dist, extreme=False, verbose=False):\n    k = 3. if extreme else 2.\n    threshold = np.mean(dist) * k\n    return threshold\n\n\ndef is_pos_def(A):\n    if np.allclose(A, A.T):\n        try:\n            np.linalg.cholesky(A)\n            return True\n        except np.linalg.LinAlgError:\n            return False\n    else:\n        return False\n\n\ndata_train = np.array(X_train_PCA.values)\ndata_test = np.array(X_test_PCA.values)   \n\ncov_matrix, inv_cov_matrix  = cov_matrix(data_train)\n\n\nmean_distr = data_train.mean(axis=0)\n\ndist_test = MahalanobisDist(inv_cov_matrix, mean_distr, data_test, verbose=False)\ndist_train = MahalanobisDist(inv_cov_matrix, mean_distr, data_train, verbose=False)\nthreshold = MD_threshold(dist_train, extreme = True)\n\n\nplt.figure()\nsns.distplot(np.square(dist_train),\n             bins = 10, \n             kde= False);\nplt.xlim([0.0,15])\n\n\nplt.figure()\nsns.distplot(dist_train,\n             bins = 10, \n             kde= True, \n            color = 'green');\nplt.xlim([0.0,5])\nplt.xlabel('Mahalanobis dist')\n\n\n\nanomaly_train = pd.DataFrame()\nanomaly_train['Mob dist']= dist_train\nanomaly_train['Thresh'] = threshold\n# If Mob dist above threshold: Flag as anomaly\nanomaly_train['Anomaly'] = anomaly_train['Mob dist'] > anomaly_train['Thresh']\nanomaly_train.index = X_train_PCA.index\nanomaly = pd.DataFrame()\nanomaly['Mob dist']= dist_test\nanomaly['Thresh'] = threshold\n# If Mob dist above threshold: Flag as anomaly\nanomaly['Anomaly'] = anomaly['Mob dist'] > anomaly['Thresh']\nanomaly.index = X_test_PCA.index\nanomaly.head()\n\nanomaly_alldata = pd.concat([anomaly_train, anomaly])\nanomaly_alldata.to_csv('Anomaly_distance.csv')\n\nanomaly_alldata.plot(logy=True, figsize = (10,6), ylim = [1e-1,1e3], color = ['green','red'])\n\nseed(10)\ntf.set_random_seed(10)\nact_func = 'elu'\n\n# Input layer:\nmodel=Sequential()\n# First hidden layer, connected to input vector X. \nmodel.add(Dense(10,activation=act_func,\n                kernel_initializer='glorot_uniform',\n                kernel_regularizer=regularizers.l2(0.0),\n                input_shape=(X_train.shape[1],)\n               )\n         )\n\nmodel.add(Dense(2,activation=act_func,\n                kernel_initializer='glorot_uniform'))\n\nmodel.add(Dense(10,activation=act_func,\n                kernel_initializer='glorot_uniform'))\n\nmodel.add(Dense(X_train.shape[1],\n                kernel_initializer='glorot_uniform'))\n\nmodel.compile(loss='mse',optimizer='adam')\n\n# Train model for 100 epochs, batch size of 10: \nNUM_EPOCHS=100\nBATCH_SIZE=10\n\n\nhistory=model.fit(np.array(X_train),np.array(X_train),\n                  batch_size=BATCH_SIZE, \n                  epochs=NUM_EPOCHS,\n                  validation_split=0.05,\n                  verbose = 1)\n\n\nplt.plot(history.history['loss'],\n         'b',\n         label='Training loss')\nplt.plot(history.history['val_loss'],\n         'r',\n         label='Validation loss')\nplt.legend(loc='upper right')\nplt.xlabel('Epochs')\nplt.ylabel('Loss, [mse]')\nplt.ylim([0,.1])\nplt.show() \n\nX_pred = model.predict(np.array(X_train))\nX_pred = pd.DataFrame(X_pred, \n                      columns=X_train.columns)\nX_pred.index = X_train.index\n\nscored = pd.DataFrame(index=X_train.index)\nscored['Loss_mae'] = np.mean(np.abs(X_pred-X_train), axis = 1)\nplt.figure()\nsns.distplot(scored['Loss_mae'],\n             bins = 10, \n             kde= True,\n            color = 'blue');\nplt.xlim([0.0,.5])\n\n\n\nX_pred = model.predict(np.array(X_test))\nX_pred = pd.DataFrame(X_pred, \n                      columns=X_test.columns)\nX_pred.index = X_test.index\n\nscored = pd.DataFrame(index=X_test.index)\nscored['Loss_mae'] = np.mean(np.abs(X_pred-X_test), axis = 1)\nscored['Threshold'] = 0.3\nscored['Anomaly'] = scored['Loss_mae'] > scored['Threshold']\nscored.head()\n\nX_pred_train = model.predict(np.array(X_train))\nX_pred_train = pd.DataFrame(X_pred_train, \n                      columns=X_train.columns)\nX_pred_train.index = X_train.index\n\nscored_train = pd.DataFrame(index=X_train.index)\nscored_train['Loss_mae'] = np.mean(np.abs(X_pred_train-X_train), axis = 1)\nscored_train['Threshold'] = 0.3\nscored_train['Anomaly'] = scored_train['Loss_mae'] > scored_train['Threshold']\nscored = pd.concat([scored_train, scored])\n\nscored.plot(logy=True,  figsize = (10,6), ylim = [1e-2,1e2], color = ['blue','red'])",
      "execution_count": 4,
      "outputs": [
        {
          "output_type": "stream",
          "text": "Using TensorFlow backend.\n",
          "name": "stderr"
        },
        {
          "output_type": "error",
          "ename": "FileNotFoundError",
          "evalue": "[Errno 2] No such file or directory: '2nd_test'",
          "traceback": [
            "\u001b[0;31m---------------------------------------------------------------------------\u001b[0m",
            "\u001b[0;31mFileNotFoundError\u001b[0m                         Traceback (most recent call last)",
            "\u001b[0;32m<ipython-input-4-8e9e1aeff2fe>\u001b[0m in \u001b[0;36m<module>\u001b[0;34m\u001b[0m\n\u001b[1;32m     22\u001b[0m \u001b[0mmerged_data\u001b[0m \u001b[0;34m=\u001b[0m \u001b[0mpd\u001b[0m\u001b[0;34m.\u001b[0m\u001b[0mDataFrame\u001b[0m\u001b[0;34m(\u001b[0m\u001b[0;34m)\u001b[0m\u001b[0;34m\u001b[0m\u001b[0m\n\u001b[1;32m     23\u001b[0m \u001b[0;34m\u001b[0m\u001b[0m\n\u001b[0;32m---> 24\u001b[0;31m \u001b[0;32mfor\u001b[0m \u001b[0mfilename\u001b[0m \u001b[0;32min\u001b[0m \u001b[0mos\u001b[0m\u001b[0;34m.\u001b[0m\u001b[0mlistdir\u001b[0m\u001b[0;34m(\u001b[0m\u001b[0mdata_dir\u001b[0m\u001b[0;34m)\u001b[0m\u001b[0;34m:\u001b[0m\u001b[0;34m\u001b[0m\u001b[0m\n\u001b[0m\u001b[1;32m     25\u001b[0m     \u001b[0mprint\u001b[0m\u001b[0;34m(\u001b[0m\u001b[0mfilename\u001b[0m\u001b[0;34m)\u001b[0m\u001b[0;34m\u001b[0m\u001b[0m\n\u001b[1;32m     26\u001b[0m     \u001b[0mdataset\u001b[0m\u001b[0;34m=\u001b[0m\u001b[0mpd\u001b[0m\u001b[0;34m.\u001b[0m\u001b[0mread_csv\u001b[0m\u001b[0;34m(\u001b[0m\u001b[0mos\u001b[0m\u001b[0;34m.\u001b[0m\u001b[0mpath\u001b[0m\u001b[0;34m.\u001b[0m\u001b[0mjoin\u001b[0m\u001b[0;34m(\u001b[0m\u001b[0mdata_dir\u001b[0m\u001b[0;34m,\u001b[0m \u001b[0mfilename\u001b[0m\u001b[0;34m)\u001b[0m\u001b[0;34m,\u001b[0m \u001b[0msep\u001b[0m\u001b[0;34m=\u001b[0m\u001b[0;34m'\\t'\u001b[0m\u001b[0;34m)\u001b[0m\u001b[0;34m\u001b[0m\u001b[0m\n",
            "\u001b[0;31mFileNotFoundError\u001b[0m: [Errno 2] No such file or directory: '2nd_test'"
          ]
        }
      ]
    },
    {
      "metadata": {
        "trusted": true
      },
      "cell_type": "code",
      "source": "<div style=\"text-align: center\"><img src=\"https://www.python.org/static/img/python-logo.png\"></div>",
      "execution_count": null,
      "outputs": []
    },
    {
      "metadata": {},
      "cell_type": "markdown",
      "source": "# An informal introduction to Python\n\nPython is a popular programming language that is reliable, flexible, easy to learn, free to use on all operating systems, and supported by both a strong developer community and many free libraries. Python supports all manners of development, including web applications, web services, desktop apps, scripting, data science, scientific computing, and Jupyter notebooks. Python is a language used by many universities, scientists, casual developers, and professional developers alike.\n\nYou can learn more about the language on [python.org](https://www.python.org/) and [Python for Beginners](https://www.python.org/about/gettingstarted/).\n\nThis walkthrough is a Jupyter notebook version of the [python.org introductory tutorial](https://docs.python.org/3.5/tutorial/introduction.html), with some edits and amendments. Because all the code is inside code cells, you can just run each code cell inline rather than using a separate Python interactive window.\n\nThis introduction is written for Python 3.6.7 but is generally applicable to other Python 3.x versions. \n\nThe original material is Copyright (c) 2001-2018 Python Software Foundation.\n\n> **Note**: This notebook is designed to have you run code cells one by one, and several code cells contain deliberate errors for demonstration purposes. As a result, if you use the **Cell** > **Run All** command, some code cells past the error won't be run. To resume running the code in each case, use **Cell** > **Run All Below** from the cell after the error."
    },
    {
      "metadata": {},
      "cell_type": "markdown",
      "source": "## Comments\n\nMany of the examples in this notebook include comments. Comments in Python start with the hash character, `#`, and extend to the end of the physical line. A comment may appear at the start of a line or following whitespace or code, but not within a string literal. A hash character within a string literal is just a hash character. Since comments are to clarify code and are not interpreted by Python, they may be omitted when typing in examples.\n\nSome examples:"
    },
    {
      "metadata": {
        "trusted": true
      },
      "cell_type": "code",
      "source": "# this is the first comment\nspam = 1  # and this is the second comment\n          # ... and now a third!\ntext = \"# This is not a comment because it's inside quotes.\"\nprint(text)",
      "execution_count": null,
      "outputs": []
    },
    {
      "metadata": {},
      "cell_type": "markdown",
      "source": "## Explore basic data types\n\nLet's try some simple Python commands to explore numbers, strings, and lists."
    },
    {
      "metadata": {},
      "cell_type": "markdown",
      "source": "### Numbers\n\nThe Python interpreter can act as a simple calculator: type an expression at it outputs the value.\n\nExpression syntax is straightforward: the operators `+`, `-`, `*` and `/` work just like in most other programming languages (such as Pascal or C); parentheses (`()`) can be used for grouping and order or precedence. For example:"
    },
    {
      "metadata": {
        "trusted": true
      },
      "cell_type": "code",
      "source": "2 + 2",
      "execution_count": null,
      "outputs": []
    },
    {
      "metadata": {
        "trusted": true
      },
      "cell_type": "code",
      "source": "50 - 5*6",
      "execution_count": null,
      "outputs": []
    },
    {
      "metadata": {
        "trusted": true
      },
      "cell_type": "code",
      "source": "(50 - 5*6) / 4",
      "execution_count": null,
      "outputs": []
    },
    {
      "metadata": {
        "trusted": true
      },
      "cell_type": "code",
      "source": "8 / 5  # Division always returns a floating point number.",
      "execution_count": null,
      "outputs": []
    },
    {
      "metadata": {},
      "cell_type": "markdown",
      "source": "The integer numbers (e.g. `2`, `4`, `20`) have type [`int`](https://docs.python.org/3.5/library/functions.html#int), the ones with a fractional part (e.g. `5.0`, `1.6`) have type [`float`](https://docs.python.org/3.5/library/functions.html#float). We'll see more about numeric types later in the tutorial.\n\nDivision (`/`) always returns a float. To do [floor division](https://docs.python.org/3.5/glossary.html#term-floor-division) and get an integer result (discarding any fractional result) you can use the `//` operator; to calculate the remainder you can use `%`:"
    },
    {
      "metadata": {
        "trusted": true
      },
      "cell_type": "code",
      "source": "17 / 3  # Classic division returns a float.",
      "execution_count": null,
      "outputs": []
    },
    {
      "metadata": {
        "trusted": true
      },
      "cell_type": "code",
      "source": "17 // 3  # Floor division discards the fractional part.",
      "execution_count": null,
      "outputs": []
    },
    {
      "metadata": {
        "trusted": true
      },
      "cell_type": "code",
      "source": "17 % 3  # The % operator returns the remainder of the division.",
      "execution_count": null,
      "outputs": []
    },
    {
      "metadata": {
        "trusted": true
      },
      "cell_type": "code",
      "source": "5 * 3 + 2  # result * divisor + remainder",
      "execution_count": null,
      "outputs": []
    },
    {
      "metadata": {},
      "cell_type": "markdown",
      "source": "Use the `**` operator to calculate powers:"
    },
    {
      "metadata": {
        "trusted": true
      },
      "cell_type": "code",
      "source": "5 ** 2  # 5 squared",
      "execution_count": null,
      "outputs": []
    },
    {
      "metadata": {
        "trusted": true
      },
      "cell_type": "code",
      "source": "2 ** 7  # 2 to the power of 7",
      "execution_count": null,
      "outputs": []
    },
    {
      "metadata": {},
      "cell_type": "markdown",
      "source": "`**` has higher precedence than `-`; if you want a negative base, use parentheses:"
    },
    {
      "metadata": {
        "trusted": true
      },
      "cell_type": "code",
      "source": "-3**2  # Same as -(3**2)",
      "execution_count": null,
      "outputs": []
    },
    {
      "metadata": {
        "trusted": true
      },
      "cell_type": "code",
      "source": "(-3)**2",
      "execution_count": null,
      "outputs": []
    },
    {
      "metadata": {},
      "cell_type": "markdown",
      "source": "The equal sign (`=`) assigns a value to a variable:"
    },
    {
      "metadata": {
        "trusted": true
      },
      "cell_type": "code",
      "source": "width = 20\nheight = 5 * 90\nwidth * height",
      "execution_count": null,
      "outputs": []
    },
    {
      "metadata": {},
      "cell_type": "markdown",
      "source": "If a variable is not \"defined\" (assigned a value), using it produces an error:"
    },
    {
      "metadata": {
        "trusted": true
      },
      "cell_type": "code",
      "source": "n  # Try to access an undefined variable.",
      "execution_count": null,
      "outputs": []
    },
    {
      "metadata": {},
      "cell_type": "markdown",
      "source": "Python provides full support for floating point numbers; operators with mixed type operands convert the integer operand to floating point:"
    },
    {
      "metadata": {
        "trusted": true
      },
      "cell_type": "code",
      "source": "3 * 3.75 / 1.5",
      "execution_count": null,
      "outputs": []
    },
    {
      "metadata": {
        "trusted": true
      },
      "cell_type": "code",
      "source": "7.0 / 2",
      "execution_count": null,
      "outputs": []
    },
    {
      "metadata": {},
      "cell_type": "markdown",
      "source": "In interactive mode and in Jupyter notebooks, the last printed expression is assigned to the variable `_`. This means that when you're using Python as a desk calculator, its somewhat easier to continue calculations. For example:"
    },
    {
      "metadata": {
        "trusted": true
      },
      "cell_type": "code",
      "source": "tax = 12.5 / 100\nprice = 100.50\nprice * tax",
      "execution_count": null,
      "outputs": []
    },
    {
      "metadata": {
        "trusted": true
      },
      "cell_type": "code",
      "source": "price + _",
      "execution_count": null,
      "outputs": []
    },
    {
      "metadata": {
        "trusted": true
      },
      "cell_type": "code",
      "source": "round(_, 2)",
      "execution_count": null,
      "outputs": []
    },
    {
      "metadata": {},
      "cell_type": "markdown",
      "source": "Treat the `_` variable as read-only. Don't explicitly assign a value to it--doing so creates an independent local variable with the same name, thereby masking the built-in variable with its magic behavior.\n\nIn addition to `int` and `float`, Python supports other types of numbers, such as [`Decimal`](https://docs.python.org/3.5/library/decimal.html#decimal.Decimal) and [`Fraction`](https://docs.python.org/3.5/library/fractions.html#fractions.Fraction). Python also has built-in support for [complex numbers](https://docs.python.org/3.5/library/stdtypes.html#typesnumeric), and uses the `j` or `J` suffix to indicate the imaginary part (e.g. `3+5j`)."
    },
    {
      "metadata": {},
      "cell_type": "markdown",
      "source": "### Strings"
    },
    {
      "metadata": {},
      "cell_type": "markdown",
      "source": "Besides numbers, Python can also manipulate strings. Strings can enclosed in single quotes (`'...'`) or double quotes (`\"...\"`) with the same result. Use `\\` to escape quotes, that is, to use a quote within the string itself:"
    },
    {
      "metadata": {
        "trusted": true
      },
      "cell_type": "code",
      "source": "'spam eggs'  # Single quotes.",
      "execution_count": null,
      "outputs": []
    },
    {
      "metadata": {
        "trusted": true
      },
      "cell_type": "code",
      "source": "'doesn\\'t'  # Use \\' to escape the single quote...",
      "execution_count": null,
      "outputs": []
    },
    {
      "metadata": {
        "trusted": true
      },
      "cell_type": "code",
      "source": "\"doesn't\"  # ...or use double quotes instead.",
      "execution_count": null,
      "outputs": []
    },
    {
      "metadata": {
        "trusted": true
      },
      "cell_type": "code",
      "source": "'\"Yes,\" he said.'",
      "execution_count": null,
      "outputs": []
    },
    {
      "metadata": {
        "trusted": true
      },
      "cell_type": "code",
      "source": "\"\\\"Yes,\\\" he said.\"",
      "execution_count": null,
      "outputs": []
    },
    {
      "metadata": {
        "trusted": true
      },
      "cell_type": "code",
      "source": "'\"Isn\\'t,\" she said.'",
      "execution_count": null,
      "outputs": []
    },
    {
      "metadata": {},
      "cell_type": "markdown",
      "source": "In the interactive interpreter and Jupyter notebooks, the output string is enclosed in quotes and special characters are escaped with backslashes. Although this output sometimes looks different from the input (the enclosing quotes could change), the two strings are equivalent. The string is enclosed in double quotes if the string contains a single quote and no double quotes, otherwise its enclosed in single quotes. The [`print()`](https://docs.python.org/3.6/library/functions.html#print) function produces a more readable output by omitting the enclosing quotes and by printing escaped and special characters:"
    },
    {
      "metadata": {
        "trusted": true
      },
      "cell_type": "code",
      "source": "'\"Isn\\'t,\" she said.'",
      "execution_count": null,
      "outputs": []
    },
    {
      "metadata": {
        "trusted": true
      },
      "cell_type": "code",
      "source": "print('\"Isn\\'t,\" she said.')",
      "execution_count": null,
      "outputs": []
    },
    {
      "metadata": {
        "trusted": true
      },
      "cell_type": "code",
      "source": "s = 'First line.\\nSecond line.'  # \\n means newline.\ns  # Without print(), \\n is included in the output.",
      "execution_count": null,
      "outputs": []
    },
    {
      "metadata": {
        "trusted": true
      },
      "cell_type": "code",
      "source": "print(s)  # With print(), \\n produces a new line.",
      "execution_count": null,
      "outputs": []
    },
    {
      "metadata": {},
      "cell_type": "markdown",
      "source": "If you don't want escaped characters (prefaced by `\\`) to be interpreted as special characters, use *raw strings* by adding an `r` before the first quote:"
    },
    {
      "metadata": {
        "trusted": true
      },
      "cell_type": "code",
      "source": "print('C:\\some\\name')  # Here \\n means newline!",
      "execution_count": null,
      "outputs": []
    },
    {
      "metadata": {
        "trusted": true
      },
      "cell_type": "code",
      "source": "print(r'C:\\some\\name')  # Note the r before the quote.",
      "execution_count": null,
      "outputs": []
    },
    {
      "metadata": {},
      "cell_type": "markdown",
      "source": "String literals can span multiple lines and are delineated by triple-quotes: `\"\"\"...\"\"\"` or `'''...'''`. End of lines are automatically included in the string, but it's possible to prevent this by adding a `\\` at the end of the line. For example, without a `\\`, the following example includes an extra line at the beginning of the output:"
    },
    {
      "metadata": {
        "trusted": true
      },
      "cell_type": "code",
      "source": "print(\"\"\"\nUsage: thingy [OPTIONS]\n     -h                        Display this usage message\n     -H hostname               Hostname to connect to\n\"\"\")",
      "execution_count": null,
      "outputs": []
    },
    {
      "metadata": {},
      "cell_type": "markdown",
      "source": "Adding a `\\` removes that extra line:"
    },
    {
      "metadata": {
        "trusted": true
      },
      "cell_type": "code",
      "source": "print(\"\"\"\\\nUsage: thingy [OPTIONS]\n     -h                        Display this usage message\n     -H hostname               Hostname to connect to\n\"\"\")",
      "execution_count": null,
      "outputs": []
    },
    {
      "metadata": {},
      "cell_type": "markdown",
      "source": "Because Python doesn't provide a means for creating multi-line comments, developers often just use triple quotes for this purpose. In a Jupyter notebook, however, such quotes define a string literal which appears as the output of a code cell:"
    },
    {
      "metadata": {
        "trusted": true
      },
      "cell_type": "code",
      "source": "\"\"\"\nEverything between the first three quotes, including new lines,\nis part of the multi-line comment. Technically, the Python interpreter\nsimply sees the comment as a string, and because it's not otherwise\nused in code, the string is ignored. Convenient, eh?\n\"\"\"",
      "execution_count": null,
      "outputs": []
    },
    {
      "metadata": {},
      "cell_type": "markdown",
      "source": "For this reason, it's best in notebooks to use the `#` comment character at the beginning of each line, or better still, just use a Markdown cell!"
    },
    {
      "metadata": {},
      "cell_type": "markdown",
      "source": "Strings can be *concatenated* (glued together) with the `+` operator, and repeated with `*`:"
    },
    {
      "metadata": {
        "trusted": true
      },
      "cell_type": "code",
      "source": "# 3 times 'un', followed by 'ium'\n3 * 'un' + 'ium'",
      "execution_count": null,
      "outputs": []
    },
    {
      "metadata": {},
      "cell_type": "markdown",
      "source": "Two or more *string literals* (that is, the values enclosed in quotes) placed next to each other are automatically concatenated:"
    },
    {
      "metadata": {
        "trusted": true
      },
      "cell_type": "code",
      "source": "'Py' 'thon'",
      "execution_count": null,
      "outputs": []
    },
    {
      "metadata": {},
      "cell_type": "markdown",
      "source": "Automatic concatenation works only with two literals; it does not work with variables or expressions, so the following cell produces an error:"
    },
    {
      "metadata": {
        "trusted": true
      },
      "cell_type": "code",
      "source": "prefix = 'Py'\nprefix 'thon'  # Can't concatenate a variable and a string literal.",
      "execution_count": null,
      "outputs": []
    },
    {
      "metadata": {},
      "cell_type": "markdown",
      "source": "The following cell likewise produces an error:"
    },
    {
      "metadata": {
        "trusted": true
      },
      "cell_type": "code",
      "source": "('un' * 3) 'ium'",
      "execution_count": null,
      "outputs": []
    },
    {
      "metadata": {},
      "cell_type": "markdown",
      "source": "To concatenate variables, or a variable and a literal, use `+`:"
    },
    {
      "metadata": {
        "trusted": true
      },
      "cell_type": "code",
      "source": "prefix = 'Py'\nprefix + 'thon'",
      "execution_count": null,
      "outputs": []
    },
    {
      "metadata": {},
      "cell_type": "markdown",
      "source": "Automatic concatenation is particularly useful when you want to break up long strings:"
    },
    {
      "metadata": {
        "trusted": true
      },
      "cell_type": "code",
      "source": "text = ('Put several strings within parentheses '\n            'to have them joined together.')\ntext",
      "execution_count": null,
      "outputs": []
    },
    {
      "metadata": {},
      "cell_type": "markdown",
      "source": "Strings can be *indexed* (subscripted), with the first character having index 0. There is no separate character type; a character is simply a string of size one:"
    },
    {
      "metadata": {
        "trusted": true
      },
      "cell_type": "code",
      "source": "word = 'Python'\nword[0]  # Character in position 0.",
      "execution_count": null,
      "outputs": []
    },
    {
      "metadata": {
        "trusted": true
      },
      "cell_type": "code",
      "source": "word[5]  # Character in position 5.",
      "execution_count": null,
      "outputs": []
    },
    {
      "metadata": {},
      "cell_type": "markdown",
      "source": "Indices may also be negative numbers, which means to start counting from the end of the string. Note that because -0 is the same as 0, negative indices start from -1:"
    },
    {
      "metadata": {
        "trusted": true
      },
      "cell_type": "code",
      "source": "word[-1]  # Last character.",
      "execution_count": null,
      "outputs": []
    },
    {
      "metadata": {
        "trusted": true
      },
      "cell_type": "code",
      "source": "word[-2]  # Second-last character.",
      "execution_count": null,
      "outputs": []
    },
    {
      "metadata": {
        "trusted": true
      },
      "cell_type": "code",
      "source": "word[-6]",
      "execution_count": null,
      "outputs": []
    },
    {
      "metadata": {},
      "cell_type": "markdown",
      "source": "In addition to indexing, which extracts individual characters, Python also supports *slicing*, which extracts a substring. To slide, you indicate a *range* in the format `start:end`, where the start position is included but the end position is excluded:"
    },
    {
      "metadata": {
        "trusted": true
      },
      "cell_type": "code",
      "source": "word[0:2]  # Characters from position 0 (included) to 2 (excluded).",
      "execution_count": null,
      "outputs": []
    },
    {
      "metadata": {
        "trusted": true
      },
      "cell_type": "code",
      "source": "word[2:5]  # Characters from position 2 (included) to 5 (excluded).",
      "execution_count": null,
      "outputs": []
    },
    {
      "metadata": {},
      "cell_type": "markdown",
      "source": "If you omit either position, the default start position is 0 and the default end is the length of the string:"
    },
    {
      "metadata": {
        "trusted": true
      },
      "cell_type": "code",
      "source": "word[:2]   # Character from the beginning to position 2 (excluded).",
      "execution_count": null,
      "outputs": []
    },
    {
      "metadata": {
        "trusted": true
      },
      "cell_type": "code",
      "source": "word[4:]  # Characters from position 4 (included) to the end.",
      "execution_count": null,
      "outputs": []
    },
    {
      "metadata": {
        "trusted": true
      },
      "cell_type": "code",
      "source": "word[-2:] # Characters from the second-last (included) to the end.",
      "execution_count": null,
      "outputs": []
    },
    {
      "metadata": {},
      "cell_type": "markdown",
      "source": "This characteristic means that `s[:i] + s[i:]` is always equal to `s`:"
    },
    {
      "metadata": {
        "trusted": true
      },
      "cell_type": "code",
      "source": "word[:2] + word[2:]",
      "execution_count": null,
      "outputs": []
    },
    {
      "metadata": {
        "trusted": true
      },
      "cell_type": "code",
      "source": "word[:4] + word[4:]",
      "execution_count": null,
      "outputs": []
    },
    {
      "metadata": {},
      "cell_type": "markdown",
      "source": "One way to remember how slices work is to think of the indices as pointing between characters, with the left edge of the first character numbered 0. Then the right edge of the last character of a string of *n* characters has index *n*. For example:"
    },
    {
      "metadata": {},
      "cell_type": "raw",
      "source": " +---+---+---+---+---+---+\n | P | y | t | h | o | n |\n +---+---+---+---+---+---+\n 0   1   2   3   4   5   6\n-6  -5  -4  -3  -2  -1"
    },
    {
      "metadata": {},
      "cell_type": "markdown",
      "source": "The first row of numbers gives the position of the indices 0...6 in the string; the second row gives the corresponding negative indices. The slice from *i* to *j* consists of all characters between the edges labeled *i* and *j*, respectively.\n\nFor non-negative indices, the length of a slice is the difference of the indices, if both are within bounds. For example, the length of `word[1:3]` is 2.\n\nAttempting to use an index that is too large results in an error:"
    },
    {
      "metadata": {
        "trusted": true
      },
      "cell_type": "code",
      "source": "word[42]  # The word only has 6 characters.",
      "execution_count": null,
      "outputs": []
    },
    {
      "metadata": {},
      "cell_type": "markdown",
      "source": "However, when used in a range, an index that's too large defaults to the size of the string and does not give an error. This characteristic is useful when you always want to slice at a particular index regardless of the length of a string:"
    },
    {
      "metadata": {
        "trusted": true
      },
      "cell_type": "code",
      "source": "word[4:42]",
      "execution_count": null,
      "outputs": []
    },
    {
      "metadata": {
        "trusted": true
      },
      "cell_type": "code",
      "source": "word[42:]",
      "execution_count": null,
      "outputs": []
    },
    {
      "metadata": {},
      "cell_type": "markdown",
      "source": "Python strings are [immutable](https://docs.python.org/3.5/glossary.html#term-immutable), which means they cannot be changed. Therefore, assigning a value to an indexed position in a string results in an error:"
    },
    {
      "metadata": {
        "trusted": true
      },
      "cell_type": "code",
      "source": "word[0] = 'J'",
      "execution_count": null,
      "outputs": []
    },
    {
      "metadata": {},
      "cell_type": "markdown",
      "source": "The following cell also produces an error:"
    },
    {
      "metadata": {
        "trusted": true
      },
      "cell_type": "code",
      "source": "word[2:] = 'py'",
      "execution_count": null,
      "outputs": []
    },
    {
      "metadata": {},
      "cell_type": "markdown",
      "source": "A slice it itself a value that you can concatenate with other values using `+`:"
    },
    {
      "metadata": {
        "trusted": true
      },
      "cell_type": "code",
      "source": "'J' + word[1:]",
      "execution_count": null,
      "outputs": []
    },
    {
      "metadata": {
        "trusted": true
      },
      "cell_type": "code",
      "source": "word[:2] + 'Py'",
      "execution_count": null,
      "outputs": []
    },
    {
      "metadata": {},
      "cell_type": "markdown",
      "source": "A slice, however, is not a string literal and cannot be used with automatic concatenation. The following code produces an error:"
    },
    {
      "metadata": {
        "trusted": true
      },
      "cell_type": "code",
      "source": "word[:2] 'Py'    # Slice is not a literal; produces an error",
      "execution_count": null,
      "outputs": []
    },
    {
      "metadata": {},
      "cell_type": "markdown",
      "source": "The built-in function [`len()`](https://docs.python.org/3.5/library/functions.html#len) returns the length of a string:"
    },
    {
      "metadata": {
        "trusted": true
      },
      "cell_type": "code",
      "source": "s = 'supercalifragilisticexpialidocious'\nlen(s)",
      "execution_count": null,
      "outputs": []
    },
    {
      "metadata": {},
      "cell_type": "markdown",
      "source": "### Lists"
    },
    {
      "metadata": {},
      "cell_type": "markdown",
      "source": "Python knows a number of _compound_ data types, which are used to group together other values. The most versatile is the [*list*](https://docs.python.org/3.5/library/stdtypes.html#typesseq-list), which can be written as a sequence of comma-separated values (items) between square brackets. Lists might contain items of different types, but usually the items all have the same type."
    },
    {
      "metadata": {
        "trusted": true
      },
      "cell_type": "code",
      "source": "squares = [1, 4, 9, 16, 25]\nsquares",
      "execution_count": null,
      "outputs": []
    },
    {
      "metadata": {},
      "cell_type": "markdown",
      "source": "Like strings (and all other built-in [sequence](https://docs.python.org/3.5/glossary.html#term-sequence) types), lists can be indexed and sliced:"
    },
    {
      "metadata": {
        "trusted": true
      },
      "cell_type": "code",
      "source": "squares[0]  # Indexing returns the item.",
      "execution_count": null,
      "outputs": []
    },
    {
      "metadata": {
        "trusted": true
      },
      "cell_type": "code",
      "source": "squares[-1]",
      "execution_count": null,
      "outputs": []
    },
    {
      "metadata": {
        "trusted": true
      },
      "cell_type": "code",
      "source": "squares[-3:]  # Slicing returns a new list.",
      "execution_count": null,
      "outputs": []
    },
    {
      "metadata": {},
      "cell_type": "markdown",
      "source": "All slice operations return a new list containing the requested elements. This means that the following slice returns a new (shallow) copy of the list:"
    },
    {
      "metadata": {
        "trusted": true
      },
      "cell_type": "code",
      "source": "squares[:]",
      "execution_count": null,
      "outputs": []
    },
    {
      "metadata": {},
      "cell_type": "markdown",
      "source": "Lists also support concatenation with the `+` operator:"
    },
    {
      "metadata": {
        "trusted": true
      },
      "cell_type": "code",
      "source": "squares + [36, 49, 64, 81, 100]",
      "execution_count": null,
      "outputs": []
    },
    {
      "metadata": {},
      "cell_type": "markdown",
      "source": "Unlike strings, which are [immutable](https://docs.python.org/3.5/glossary.html#term-immutable), lists are a [mutable](https://docs.python.org/3.5/glossary.html#term-mutable) type, which means you can change any value in the list:"
    },
    {
      "metadata": {
        "trusted": true
      },
      "cell_type": "code",
      "source": "cubes = [1, 8, 27, 65, 125]  # Something's wrong here ...\n4 ** 3  # the cube of 4 is 64, not 65!",
      "execution_count": null,
      "outputs": []
    },
    {
      "metadata": {
        "trusted": true
      },
      "cell_type": "code",
      "source": "cubes[3] = 64  # Replace the wrong value.\ncubes",
      "execution_count": null,
      "outputs": []
    },
    {
      "metadata": {},
      "cell_type": "markdown",
      "source": "Use the list's `append()` method to add new items to the end of the list:"
    },
    {
      "metadata": {
        "trusted": true
      },
      "cell_type": "code",
      "source": "cubes.append(216)  # Add the cube of 6 ...\ncubes.append(7 ** 3)  # and the cube of 7.\ncubes",
      "execution_count": null,
      "outputs": []
    },
    {
      "metadata": {},
      "cell_type": "markdown",
      "source": "You can even assign to slices, which can change the size of the list or clear it entirely:"
    },
    {
      "metadata": {
        "trusted": true
      },
      "cell_type": "code",
      "source": "letters = ['a', 'b', 'c', 'd', 'e', 'f', 'g']\nletters",
      "execution_count": null,
      "outputs": []
    },
    {
      "metadata": {
        "trusted": true
      },
      "cell_type": "code",
      "source": "# Replace some values.\nletters[2:5] = ['C', 'D', 'E']\nletters",
      "execution_count": null,
      "outputs": []
    },
    {
      "metadata": {
        "trusted": true
      },
      "cell_type": "code",
      "source": "# Now remove them.\nletters[2:5] = []\nletters",
      "execution_count": null,
      "outputs": []
    },
    {
      "metadata": {
        "trusted": true
      },
      "cell_type": "code",
      "source": "# Clear the list by replacing all the elements with an empty list.\nletters[:] = []\nletters",
      "execution_count": null,
      "outputs": []
    },
    {
      "metadata": {},
      "cell_type": "markdown",
      "source": "The built-in [`len()`](https://docs.python.org/3.5/library/functions.html#len) function also applies to lists:"
    },
    {
      "metadata": {
        "trusted": true
      },
      "cell_type": "code",
      "source": "letters = ['a', 'b', 'c', 'd']\nlen(letters)",
      "execution_count": null,
      "outputs": []
    },
    {
      "metadata": {},
      "cell_type": "markdown",
      "source": "You can nest lists, which means to create lists that contain other lists. For example:"
    },
    {
      "metadata": {
        "trusted": true
      },
      "cell_type": "code",
      "source": "a = ['a', 'b', 'c']\nn = [1, 2, 3]\nx = [a, n]\nx",
      "execution_count": null,
      "outputs": []
    },
    {
      "metadata": {
        "trusted": true
      },
      "cell_type": "code",
      "source": "x[0]",
      "execution_count": null,
      "outputs": []
    },
    {
      "metadata": {
        "trusted": true
      },
      "cell_type": "code",
      "source": "x[0][1]",
      "execution_count": null,
      "outputs": []
    },
    {
      "metadata": {},
      "cell_type": "markdown",
      "source": "## First Steps Towards Programming"
    },
    {
      "metadata": {},
      "cell_type": "markdown",
      "source": "Python, being used by professional programmers and scientists, among others, is capable of far more complicated tasks than adding numbers, playing with strings, and manipulating lists. For instance, we can write an initial sub-sequence of the Fibonacci series as follows:"
    },
    {
      "metadata": {
        "trusted": true
      },
      "cell_type": "code",
      "source": "# Fibonacci series:\n# the sum of two elements defines the next.\na, b = 0, 1\n\nwhile b < 10:    \n    print(b)\n    a, b = b, a+b",
      "execution_count": null,
      "outputs": []
    },
    {
      "metadata": {},
      "cell_type": "markdown",
      "source": "This example introduces several new features of the Python language:\n\n- The first line contains a *multiple assignment*: the variables `a` and `b` simultaneously get the new values 0 and 1. On the last line this assignment is used again, demonstrating that the expressions on the right-hand side are all evaluated first before any of the assignments take place. The right-hand side expressions are evaluated from the left to the right.\n\n- The [`while`](https://docs.python.org/3.5/reference/compound_stmts.html#while) loop executes as long as the condition (here: `b < 10`) remains true. In Python, as in C, any non-zero integer value is true; zero is false. The condition may also be a string or list value, in fact any sequence; anything with a non-zero length is true, empty sequences are false. The test used in the example is a simple comparison. The standard comparison operators are written the same as in C: `<` (less than), `>` (greater than), `==` (equal to), `<=` (less than or equal to), `>=` (greater than or equal to) and `!=` (not equal to).\n\n- Every line in the *body* of the loop is indented: indentation is Python's way of grouping statements. At the interactive prompt, you have to type a tab or space(s) for each indented line. In practice, you typically write Python code in an editor, including a Jupyter notebook, that provides automatic indentation.\n\n- The [`print()`](https://docs.python.org/3.5/library/functions.html#print) function writes the value of the argument(s) its given. `print` differs from just writing the expression you want to write (as we did earlier in the calculator examples) in the way it handles multiple arguments, floating point quantities, and strings. Strings are printed without quotes, and a space is inserted between items, so you can easily format your output nicely. For example:"
    },
    {
      "metadata": {
        "trusted": true
      },
      "cell_type": "code",
      "source": "i = 256*256\nprint('The value of i is', i)",
      "execution_count": null,
      "outputs": []
    },
    {
      "metadata": {},
      "cell_type": "markdown",
      "source": "The keyword argument `end` can be used to avoid the newline after the output, or end the output with a different string:"
    },
    {
      "metadata": {
        "trusted": true
      },
      "cell_type": "code",
      "source": "a, b = 0, 1\nwhile b < 1000:\n    print(b, end=',')\n    a, b = b, a+b",
      "execution_count": null,
      "outputs": []
    },
    {
      "metadata": {},
      "cell_type": "markdown",
      "source": "## Learn more\n\nStrings:\n\n- [Text Sequence Type - str](https://docs.python.org/3.5/library/stdtypes.html#textseq): Strings are examples of *sequence types*, and support the common operations supported by such types.\n- [String Methods](https://docs.python.org/3.5/library/stdtypes.html#string-methods): Strings support a large number of methods for basic transformations and searching.\n- [Format String Syntax](https://docs.python.org/3.5/library/string.html#formatstrings): Information about string formatting with [`str.format()`](https://docs.python.org/3.5/library/string.html#formatstrings).\n- [`printf`-style String Formatting](https://docs.python.org/3.5/library/stdtypes.html#old-string-formatting): The old formatting operations invoked when strings and Unicode strings are the left operand of the `%` operator.\n\nContinue the tutorial on python.org (try pasting the code into a notebook!):\n\n- [More Control Flow Tools](https://docs.python.org/3.6/tutorial/controlflow.html)\n- [Data Structures](Data Structures)\n- [Modules](https://docs.python.org/3.6/tutorial/modules.html)\n- [Input and Output](https://docs.python.org/3.6/tutorial/inputoutput.html)"
    }
  ],
  "metadata": {
    "kernelspec": {
      "name": "python36",
      "display_name": "Python 3.6",
      "language": "python"
    },
    "language_info": {
      "mimetype": "text/x-python",
      "nbconvert_exporter": "python",
      "name": "python",
      "pygments_lexer": "ipython3",
      "version": "3.6.6",
      "file_extension": ".py",
      "codemirror_mode": {
        "version": 3,
        "name": "ipython"
      }
    }
  },
  "nbformat": 4,
  "nbformat_minor": 1
}